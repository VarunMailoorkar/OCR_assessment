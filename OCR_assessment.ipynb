{
 "cells": [
  {
   "cell_type": "code",
   "execution_count": null,
   "metadata": {},
   "outputs": [],
   "source": [
    "from pdf2image import convert_from_path\n",
    "import pytesseract\n",
    "import pdfplumber\n",
    "import pandas as pd;\n",
    "from PIL import Image"
   ]
  },
  {
   "cell_type": "code",
   "execution_count": 3,
   "metadata": {},
   "outputs": [],
   "source": [
    "pdfs={\n",
    "    \"cardio_structured.pdf\":[6],\n",
    "    \"prot_sap_102.pdf\":[50],\n",
    "    \"prot_sap_1.pdf\":[14]\n",
    "}"
   ]
  },
  {
   "cell_type": "code",
   "execution_count": 4,
   "metadata": {},
   "outputs": [],
   "source": [
    "def pdf_to_img(pdf_path,pages):\n",
    "    img=convert_from_path(pdf_path,first_pg=min(pages),last_page=max(pages))\n",
    "    return {page:img[i] for i, page in enumerate(pages)}"
   ]
  },
  {
   "cell_type": "code",
   "execution_count": 6,
   "metadata": {},
   "outputs": [],
   "source": [
    "def extract_txt_from_image(img):\n",
    "    return pytesseract.image_to_string(img, config=\"--psm 6\") #using psm 6 beacuse it assumes a single uniform block of text"
   ]
  },
  {
   "cell_type": "code",
   "execution_count": 7,
   "metadata": {},
   "outputs": [],
   "source": [
    "def extract_tables_from_pdf(pdf_path,pages):\n",
    "    tables=[]\n",
    "    with pdfplumber.open(pdf_path) as pdf:\n",
    "        for page_num in pages:\n",
    "            page=pdf.pages[page_num-1]\n",
    "            extracted_tables=page.extract_tables()\n",
    "            tables.extend(extracted_tables)\n",
    "    return tables"
   ]
  },
  {
   "cell_type": "code",
   "execution_count": 8,
   "metadata": {},
   "outputs": [],
   "source": [
    "def tables_to_dataframe(tables):\n",
    "    return [pd.DataFrame(table) for table in tables if table]"
   ]
  },
  {
   "cell_type": "code",
   "execution_count": 9,
   "metadata": {},
   "outputs": [],
   "source": [
    "def save_to_excel(df_list,output_file=\"extracted_tables.xlsx\"):\n",
    "    with pd.ExcelWriter(output_file,engine=\"openpyxl\")as writer:\n",
    "        for i, df in enumerate(df_list):\n",
    "            df.to_excel(writer,sheet_name=f\"Table_{i+1}\",index=False,header=False)\n",
    "    print(f\"SAVED TO {output_file}\")"
   ]
  },
  {
   "cell_type": "code",
   "execution_count": 10,
   "metadata": {},
   "outputs": [],
   "source": [
    "def process_pdf(pdf_files):\n",
    "    all_dfs=[]\n",
    "    for pdf_path,pages in pdf_files.items():\n",
    "        print(f\"\\nProcessing:{pdf_path}(pages:{pages})\")\n",
    "        tables=extract_tables_from_pdf(pdf_path,pages)\n",
    "        if not tables:\n",
    "            print(f\"NO TABLES DETECTED IN {pdf_path}.\")\n",
    "            images=pdf_to_img(pdf_path,pages)\n",
    "            extracted_text=[extract_txt_from_image(images[page]) for page in pages]\n",
    "            tables=[text.split(\"\\n\") for text in extracted_text]\n",
    "\n",
    "        df_list = tables_to_dataframe(tables)\n",
    "        all_dfs.extend(df_list)\n",
    "    \n",
    "    if all_dfs:\n",
    "        save_to_excel(all_dfs)\n",
    "    else:\n",
    "        print(\"no tables extracted.\")"
   ]
  },
  {
   "cell_type": "code",
   "execution_count": 11,
   "metadata": {},
   "outputs": [
    {
     "name": "stdout",
     "output_type": "stream",
     "text": [
      "\n",
      "Processing:cardio_structured.pdf(pages:[6])\n",
      "\n",
      "Processing:prot_sap_102.pdf(pages:[50])\n",
      "\n",
      "Processing:prot_sap_1.pdf(pages:[14])\n",
      "SAVED TO extracted_tables.xlsx\n"
     ]
    }
   ],
   "source": [
    "process_pdf(pdfs)"
   ]
  }
 ],
 "metadata": {
  "kernelspec": {
   "display_name": "Python 3",
   "language": "python",
   "name": "python3"
  },
  "language_info": {
   "codemirror_mode": {
    "name": "ipython",
    "version": 3
   },
   "file_extension": ".py",
   "mimetype": "text/x-python",
   "name": "python",
   "nbconvert_exporter": "python",
   "pygments_lexer": "ipython3",
   "version": "3.12.2"
  }
 },
 "nbformat": 4,
 "nbformat_minor": 2
}
